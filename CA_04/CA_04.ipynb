{
 "cells": [
  {
   "cell_type": "markdown",
   "metadata": {},
   "source": [
    "# AI - Project 04- Mohsen Fayyaz - 810196650"
   ]
  },
  {
   "cell_type": "markdown",
   "metadata": {},
   "source": [
    "# 1) Decision Tree\n"
   ]
  },
  {
   "cell_type": "code",
   "execution_count": 100,
   "metadata": {},
   "outputs": [],
   "source": [
    "# Load libraries\n",
    "import pandas as pd\n",
    "from sklearn.tree import DecisionTreeClassifier  # Import Decision Tree Classifier\n",
    "from sklearn.model_selection import train_test_split  # Import train_test_split function\n",
    "from sklearn import metrics  # Import scikit-learn metrics module for accuracy calculation\n",
    "from sklearn.datasets import load_iris\n",
    "from sklearn import tree\n",
    "import matplotlib"
   ]
  },
  {
   "cell_type": "code",
   "execution_count": 101,
   "metadata": {},
   "outputs": [
    {
     "data": {
      "text/html": [
       "<div>\n",
       "<style scoped>\n",
       "    .dataframe tbody tr th:only-of-type {\n",
       "        vertical-align: middle;\n",
       "    }\n",
       "\n",
       "    .dataframe tbody tr th {\n",
       "        vertical-align: top;\n",
       "    }\n",
       "\n",
       "    .dataframe thead th {\n",
       "        text-align: right;\n",
       "    }\n",
       "</style>\n",
       "<table border=\"1\" class=\"dataframe\">\n",
       "  <thead>\n",
       "    <tr style=\"text-align: right;\">\n",
       "      <th></th>\n",
       "      <th>age</th>\n",
       "      <th>sex</th>\n",
       "      <th>cp</th>\n",
       "      <th>trestbps</th>\n",
       "      <th>chol</th>\n",
       "      <th>fbs</th>\n",
       "      <th>restecg</th>\n",
       "      <th>thalach</th>\n",
       "      <th>exang</th>\n",
       "      <th>oldpeak</th>\n",
       "      <th>slope</th>\n",
       "      <th>ca</th>\n",
       "      <th>thal</th>\n",
       "      <th>target</th>\n",
       "    </tr>\n",
       "  </thead>\n",
       "  <tbody>\n",
       "    <tr>\n",
       "      <td>0</td>\n",
       "      <td>63</td>\n",
       "      <td>1</td>\n",
       "      <td>3</td>\n",
       "      <td>145</td>\n",
       "      <td>233</td>\n",
       "      <td>1</td>\n",
       "      <td>0</td>\n",
       "      <td>150</td>\n",
       "      <td>0</td>\n",
       "      <td>2.3</td>\n",
       "      <td>0</td>\n",
       "      <td>0</td>\n",
       "      <td>1</td>\n",
       "      <td>1</td>\n",
       "    </tr>\n",
       "    <tr>\n",
       "      <td>1</td>\n",
       "      <td>37</td>\n",
       "      <td>1</td>\n",
       "      <td>2</td>\n",
       "      <td>130</td>\n",
       "      <td>250</td>\n",
       "      <td>0</td>\n",
       "      <td>1</td>\n",
       "      <td>187</td>\n",
       "      <td>0</td>\n",
       "      <td>3.5</td>\n",
       "      <td>0</td>\n",
       "      <td>0</td>\n",
       "      <td>2</td>\n",
       "      <td>1</td>\n",
       "    </tr>\n",
       "    <tr>\n",
       "      <td>2</td>\n",
       "      <td>41</td>\n",
       "      <td>0</td>\n",
       "      <td>1</td>\n",
       "      <td>130</td>\n",
       "      <td>204</td>\n",
       "      <td>0</td>\n",
       "      <td>0</td>\n",
       "      <td>172</td>\n",
       "      <td>0</td>\n",
       "      <td>1.4</td>\n",
       "      <td>2</td>\n",
       "      <td>0</td>\n",
       "      <td>2</td>\n",
       "      <td>1</td>\n",
       "    </tr>\n",
       "    <tr>\n",
       "      <td>3</td>\n",
       "      <td>56</td>\n",
       "      <td>1</td>\n",
       "      <td>1</td>\n",
       "      <td>120</td>\n",
       "      <td>236</td>\n",
       "      <td>0</td>\n",
       "      <td>1</td>\n",
       "      <td>178</td>\n",
       "      <td>0</td>\n",
       "      <td>0.8</td>\n",
       "      <td>2</td>\n",
       "      <td>0</td>\n",
       "      <td>2</td>\n",
       "      <td>1</td>\n",
       "    </tr>\n",
       "    <tr>\n",
       "      <td>4</td>\n",
       "      <td>57</td>\n",
       "      <td>0</td>\n",
       "      <td>0</td>\n",
       "      <td>120</td>\n",
       "      <td>354</td>\n",
       "      <td>0</td>\n",
       "      <td>1</td>\n",
       "      <td>163</td>\n",
       "      <td>1</td>\n",
       "      <td>0.6</td>\n",
       "      <td>2</td>\n",
       "      <td>0</td>\n",
       "      <td>2</td>\n",
       "      <td>1</td>\n",
       "    </tr>\n",
       "  </tbody>\n",
       "</table>\n",
       "</div>"
      ],
      "text/plain": [
       "   age  sex  cp  trestbps  chol  fbs  restecg  thalach  exang  oldpeak  slope  \\\n",
       "0   63    1   3       145   233    1        0      150      0      2.3      0   \n",
       "1   37    1   2       130   250    0        1      187      0      3.5      0   \n",
       "2   41    0   1       130   204    0        0      172      0      1.4      2   \n",
       "3   56    1   1       120   236    0        1      178      0      0.8      2   \n",
       "4   57    0   0       120   354    0        1      163      1      0.6      2   \n",
       "\n",
       "   ca  thal  target  \n",
       "0   0     1       1  \n",
       "1   0     2       1  \n",
       "2   0     2       1  \n",
       "3   0     2       1  \n",
       "4   0     2       1  "
      ]
     },
     "execution_count": 101,
     "metadata": {},
     "output_type": "execute_result"
    }
   ],
   "source": [
    "# load dataset\n",
    "data = pd.read_csv(\"data.csv\")\n",
    "data.head()"
   ]
  },
  {
   "cell_type": "code",
   "execution_count": 102,
   "metadata": {},
   "outputs": [
    {
     "name": "stdout",
     "output_type": "stream",
     "text": [
      "Decision Tree Accuracy: 0.6885245901639344\n"
     ]
    }
   ],
   "source": [
    "# split dataset in features and target variable\n",
    "X = data.drop(columns=['target'])  # Features\n",
    "y = data.target  # Target variable\n",
    "\n",
    "# Split dataset into training set and test set\n",
    "X_train, X_test, y_train, y_test = train_test_split(X, y, test_size=0.2, random_state=1)  # 80% training and 20% test\n",
    "\n",
    "def predict(X_train, y_train, X_test):\n",
    "    # Create Decision Tree classifer object\n",
    "    clf = DecisionTreeClassifier(random_state=10)\n",
    "\n",
    "    # Train Decision Tree Classifer\n",
    "    clf = clf.fit(X_train, y_train)\n",
    "\n",
    "    # Predict the response for test dataset\n",
    "    y_pred = clf.predict(X_test)\n",
    "    return y_pred\n",
    "\n",
    "# Model Accuracy, how often is the classifier correct?\n",
    "print(\"Decision Tree Accuracy:\", metrics.accuracy_score(y_test, predict(X_train, y_train, X_test)))"
   ]
  },
  {
   "cell_type": "code",
   "execution_count": 103,
   "metadata": {},
   "outputs": [],
   "source": [
    "def print_tree(clf):\n",
    "#     import graphviz \n",
    "    fig = matplotlib.pyplot.gcf()\n",
    "    fig.set_size_inches(150, 100)\n",
    "    tree.plot_tree(clf, filled=True, rounded=True, class_names=True)\n",
    "#     dot_data = tree.export_graphviz(clf, out_file=None,  \n",
    "#                       filled=True, rounded=True,  \n",
    "#                       special_characters=True)  \n",
    "#     graph = graphviz.Source(dot_data)\n",
    "#     graph \n",
    "\n",
    "# print_tree(DecisionTreeClassifier().fit(X_train, y_train))"
   ]
  },
  {
   "cell_type": "markdown",
   "metadata": {},
   "source": [
    "# 2) Random Forest"
   ]
  },
  {
   "cell_type": "markdown",
   "metadata": {},
   "source": [
    "## 2.1) $5\\times150$"
   ]
  },
  {
   "cell_type": "code",
   "execution_count": 104,
   "metadata": {},
   "outputs": [],
   "source": [
    "# Sampling 150 elements from train set\n",
    "X_samples = [X_train.sample(n=150, replace=True) for i in range(5)]\n",
    "y_samples = [y_train[i.index] for i in X_samples]"
   ]
  },
  {
   "cell_type": "markdown",
   "metadata": {},
   "source": [
    "## 2.2) Bootstrap Aggregating (Bagging)"
   ]
  },
  {
   "cell_type": "code",
   "execution_count": 105,
   "metadata": {},
   "outputs": [
    {
     "name": "stdout",
     "output_type": "stream",
     "text": [
      "Votes: [0, 0, 0, 0, 0] Majority: 0\n",
      "Votes: [1, 1, 1, 0, 1] Majority: 1\n",
      "Votes: [0, 0, 0, 0, 0] Majority: 0\n",
      "Votes: [0, 0, 0, 0, 0] Majority: 0\n",
      "Votes: [0, 0, 0, 1, 0] Majority: 0\n",
      "Votes: [0, 0, 0, 0, 0] Majority: 0\n",
      "Votes: [0, 0, 0, 0, 0] Majority: 0\n",
      "Votes: [1, 1, 1, 0, 1] Majority: 1\n",
      "Votes: [0, 0, 0, 0, 0] Majority: 0\n",
      "Votes: [1, 1, 1, 1, 1] Majority: 1\n",
      "Bagging Accuracy: 0.7377049180327869\n"
     ]
    }
   ],
   "source": [
    "predictions = [predict(X_train, y_train, X_test) for X_train, y_train in  zip(X_samples, y_samples)]\n",
    "ensemble_pred = list()\n",
    "\n",
    "for i in range(len(X_test)):\n",
    "    this_data_preds = [predict[i] for predict in predictions]\n",
    "    ensemble_pred.append(max(set(this_data_preds), key = this_data_preds.count))  # Majority Vote\n",
    "    \n",
    "    if i < 10: print(\"Votes:\", this_data_preds, \"Majority:\", max(set(this_data_preds), key = this_data_preds.count))\n",
    "\n",
    "print(\"Bagging Accuracy:\", metrics.accuracy_score(y_test, ensemble_pred))"
   ]
  },
  {
   "cell_type": "markdown",
   "metadata": {},
   "source": [
    "## 2.3) Eliminating Worst Feature"
   ]
  },
  {
   "cell_type": "code",
   "execution_count": 106,
   "metadata": {},
   "outputs": [
    {
     "name": "stdout",
     "output_type": "stream",
     "text": [
      "Accuracy: 0.7540983606557377 age\n",
      "Accuracy: 0.7213114754098361 sex\n",
      "Accuracy: 0.7213114754098361 cp\n",
      "Accuracy: 0.7213114754098361 trestbps\n",
      "Accuracy: 0.7377049180327869 chol\n",
      "Accuracy: 0.7704918032786885 fbs\n",
      "Accuracy: 0.7377049180327869 restecg\n",
      "Accuracy: 0.7213114754098361 thalach\n",
      "Accuracy: 0.7377049180327869 exang\n",
      "Accuracy: 0.7540983606557377 oldpeak\n",
      "Accuracy: 0.6885245901639344 slope\n",
      "Accuracy: 0.6557377049180327 ca\n",
      "Accuracy: 0.7213114754098361 thal\n"
     ]
    }
   ],
   "source": [
    "for del_col_name in X_train.columns:\n",
    "    limited_X_train = X_train.drop(columns=[del_col_name])  # Features\n",
    "    limited_X_test = X_test.drop(columns=[del_col_name])  # Test\n",
    "    pred = predict(limited_X_train, y_train, limited_X_test)\n",
    "    print(\"Accuracy:\", metrics.accuracy_score(y_test, pred), del_col_name)"
   ]
  },
  {
   "cell_type": "markdown",
   "metadata": {},
   "source": [
    "From running multiple times and observing that removing oldpeak gives the highest accuracy among others, we can assume that <b>oldpeak</b> is the best feature to remove."
   ]
  },
  {
   "cell_type": "markdown",
   "metadata": {},
   "source": [
    "## 2.4) Random Forest (Select 5 features)"
   ]
  },
  {
   "cell_type": "code",
   "execution_count": 107,
   "metadata": {},
   "outputs": [
    {
     "data": {
      "text/html": [
       "<div>\n",
       "<style scoped>\n",
       "    .dataframe tbody tr th:only-of-type {\n",
       "        vertical-align: middle;\n",
       "    }\n",
       "\n",
       "    .dataframe tbody tr th {\n",
       "        vertical-align: top;\n",
       "    }\n",
       "\n",
       "    .dataframe thead th {\n",
       "        text-align: right;\n",
       "    }\n",
       "</style>\n",
       "<table border=\"1\" class=\"dataframe\">\n",
       "  <thead>\n",
       "    <tr style=\"text-align: right;\">\n",
       "      <th></th>\n",
       "      <th>chol</th>\n",
       "      <th>age</th>\n",
       "      <th>exang</th>\n",
       "      <th>sex</th>\n",
       "      <th>cp</th>\n",
       "    </tr>\n",
       "  </thead>\n",
       "  <tbody>\n",
       "    <tr>\n",
       "      <td>62</td>\n",
       "      <td>186</td>\n",
       "      <td>52</td>\n",
       "      <td>0</td>\n",
       "      <td>1</td>\n",
       "      <td>3</td>\n",
       "    </tr>\n",
       "    <tr>\n",
       "      <td>127</td>\n",
       "      <td>277</td>\n",
       "      <td>67</td>\n",
       "      <td>0</td>\n",
       "      <td>0</td>\n",
       "      <td>2</td>\n",
       "    </tr>\n",
       "    <tr>\n",
       "      <td>111</td>\n",
       "      <td>126</td>\n",
       "      <td>57</td>\n",
       "      <td>0</td>\n",
       "      <td>1</td>\n",
       "      <td>2</td>\n",
       "    </tr>\n",
       "    <tr>\n",
       "      <td>287</td>\n",
       "      <td>232</td>\n",
       "      <td>57</td>\n",
       "      <td>0</td>\n",
       "      <td>1</td>\n",
       "      <td>1</td>\n",
       "    </tr>\n",
       "    <tr>\n",
       "      <td>108</td>\n",
       "      <td>244</td>\n",
       "      <td>50</td>\n",
       "      <td>0</td>\n",
       "      <td>0</td>\n",
       "      <td>1</td>\n",
       "    </tr>\n",
       "    <tr>\n",
       "      <td>...</td>\n",
       "      <td>...</td>\n",
       "      <td>...</td>\n",
       "      <td>...</td>\n",
       "      <td>...</td>\n",
       "      <td>...</td>\n",
       "    </tr>\n",
       "    <tr>\n",
       "      <td>203</td>\n",
       "      <td>274</td>\n",
       "      <td>68</td>\n",
       "      <td>1</td>\n",
       "      <td>1</td>\n",
       "      <td>2</td>\n",
       "    </tr>\n",
       "    <tr>\n",
       "      <td>255</td>\n",
       "      <td>309</td>\n",
       "      <td>45</td>\n",
       "      <td>1</td>\n",
       "      <td>1</td>\n",
       "      <td>0</td>\n",
       "    </tr>\n",
       "    <tr>\n",
       "      <td>72</td>\n",
       "      <td>204</td>\n",
       "      <td>29</td>\n",
       "      <td>0</td>\n",
       "      <td>1</td>\n",
       "      <td>1</td>\n",
       "    </tr>\n",
       "    <tr>\n",
       "      <td>235</td>\n",
       "      <td>299</td>\n",
       "      <td>51</td>\n",
       "      <td>1</td>\n",
       "      <td>1</td>\n",
       "      <td>0</td>\n",
       "    </tr>\n",
       "    <tr>\n",
       "      <td>37</td>\n",
       "      <td>232</td>\n",
       "      <td>54</td>\n",
       "      <td>0</td>\n",
       "      <td>1</td>\n",
       "      <td>2</td>\n",
       "    </tr>\n",
       "  </tbody>\n",
       "</table>\n",
       "<p>242 rows × 5 columns</p>\n",
       "</div>"
      ],
      "text/plain": [
       "     chol  age  exang  sex  cp\n",
       "62    186   52      0    1   3\n",
       "127   277   67      0    0   2\n",
       "111   126   57      0    1   2\n",
       "287   232   57      0    1   1\n",
       "108   244   50      0    0   1\n",
       "..    ...  ...    ...  ...  ..\n",
       "203   274   68      1    1   2\n",
       "255   309   45      1    1   0\n",
       "72    204   29      0    1   1\n",
       "235   299   51      1    1   0\n",
       "37    232   54      0    1   2\n",
       "\n",
       "[242 rows x 5 columns]"
      ]
     },
     "execution_count": 107,
     "metadata": {},
     "output_type": "execute_result"
    }
   ],
   "source": [
    "def generate_random_features(n = 5):\n",
    "    return X_train.columns.to_series().sample(n)\n",
    "\n",
    "def generate_random_X():\n",
    "    random_features = generate_random_features()\n",
    "    random_X_train = X_train[random_features]\n",
    "    random_X_test = X_test[random_features]\n",
    "    return random_X_train, random_X_test\n",
    "    \n",
    "random_X_train, random_X_test = generate_random_X()\n",
    "\n",
    "random_X_train"
   ]
  },
  {
   "cell_type": "code",
   "execution_count": 108,
   "metadata": {},
   "outputs": [
    {
     "name": "stdout",
     "output_type": "stream",
     "text": [
      "Votes: [1, 0, 0, 0, 0] Majority: 0\n",
      "Votes: [1, 0, 1, 1, 1] Majority: 1\n",
      "Votes: [0, 0, 1, 0, 0] Majority: 0\n",
      "Votes: [0, 1, 0, 0, 0] Majority: 0\n",
      "Votes: [1, 0, 1, 0, 0] Majority: 0\n",
      "Votes: [0, 0, 0, 0, 0] Majority: 0\n",
      "Votes: [1, 0, 0, 0, 0] Majority: 0\n",
      "Votes: [1, 1, 1, 0, 0] Majority: 1\n",
      "Votes: [0, 0, 0, 0, 0] Majority: 0\n",
      "Votes: [1, 1, 1, 1, 1] Majority: 1\n",
      "Random Forest Accuracy: 0.7704918032786885\n"
     ]
    }
   ],
   "source": [
    "random_features_list = [generate_random_features() for i in range(5)]\n",
    "\n",
    "# Sampling 150 elements from train set\n",
    "X_samples = [X_train.sample(n=150, replace=True) for i in range(5)]\n",
    "y_samples = [y_train[i.index] for i in X_samples]\n",
    "\n",
    "predictions = [predict(X_train[random_features], y_train, X_test[random_features]) for X_train, y_train, random_features in  zip(X_samples, y_samples, random_features_list)]\n",
    "ensemble_pred = list()\n",
    "\n",
    "for i in range(len(X_test)):\n",
    "    this_data_preds = [predict[i] for predict in predictions]\n",
    "    ensemble_pred.append(max(set(this_data_preds), key = this_data_preds.count))  # Majority Vote\n",
    "    \n",
    "    if i < 10: print(\"Votes:\", this_data_preds, \"Majority:\", max(set(this_data_preds), key = this_data_preds.count))\n",
    "\n",
    "print(\"Random Forest Accuracy:\", metrics.accuracy_score(y_test, ensemble_pred))"
   ]
  },
  {
   "cell_type": "markdown",
   "metadata": {},
   "source": [
    "# Bootstrap\n",
    "Given a standard training set $D$ of size n, bagging generates m new training sets $D_i$, each of size n′, by sampling from D uniformly and with replacement. By sampling with replacement, some observations may be repeated in each $D_i$. If n′=n, then for large n the set $D_i$ is expected to have the fraction (1 - 1/e) (≈63.2%) of the unique examples of D, the rest being duplicates. This kind of sample is known as a bootstrap sample. Then, m models are fitted using the above m bootstrap samples and combined by averaging the output (for regression) or voting (for classification). \n",
    "\n",
    "It reduces variance and helps to avoid overfitting."
   ]
  },
  {
   "cell_type": "markdown",
   "metadata": {},
   "source": [
    "# Overfitting\n",
    "Over-fitting is the phenomenon in which the learning system tightly fits the given training data so much that it would be inaccurate in predicting the outcomes of the untrained data. In decision trees, over-fitting occurs when the tree is designed so as to perfectly fit all samples in the training data set.\n",
    "\n",
    "Bagging reduces variance and helps to avoid overfitting."
   ]
  },
  {
   "cell_type": "markdown",
   "metadata": {},
   "source": [
    "# Random Forest\n",
    "Random forests differ in only one way from bagging: they use a modified tree learning algorithm that selects, at each candidate split in the learning process, a <b>random subset of the features</b>. This process is sometimes called \"feature bagging\". \n",
    "\n",
    "The reason for doing this is the correlation of the trees in an ordinary bootstrap sample: if one or a few features are very strong predictors for the response variable (target output), these features will be selected in many of the B trees, causing them to become <b>correlated</b>."
   ]
  },
  {
   "cell_type": "markdown",
   "metadata": {},
   "source": [
    "# Conclusion\n",
    "Although this data set and the numbers we used for creating subtrees were not perfect, and considering the fact that running the program again and again would give us different results because of it's random nature, we can see that usually, bagging accuracy is higher than simple decision tree since it stops overfitting. And we can also conclude that random forest can be better than both of the decision tree and bagging because it has not just the benefits of bagging, but also can prevent correlation between trees. "
   ]
  },
  {
   "cell_type": "code",
   "execution_count": 109,
   "metadata": {},
   "outputs": [
    {
     "data": {
      "image/png": "[encoded data removed]",
      "text/plain": [
       "<Figure size 1440x648 with 1 Axes>"
      ]
     },
     "metadata": {
      "needs_background": "light"
     },
     "output_type": "display_data"
    }
   ],
   "source": [
    "import matplotlib.pyplot as plt\n",
    "\n",
    "accuracy = [0.73, 0.77, 0.80]\n",
    "x = [\"Decision Tree\", \"Bagging\", \"Random Forest\"]\n",
    "line_width = 4\n",
    "\n",
    "plt.figure(figsize=(20, 9))\n",
    "plt.plot(x, accuracy, '-o', label=\"Accuracy\", linewidth=line_width)\n",
    "plt.title(\"Accuracy Comparison\")\n",
    "# plt.xlabel(\"1: simple\\n2: simple removing both 0\\n3: Laplace Smoothing\")\n",
    "# plt.ylabel(\".\")\n",
    "plt.legend(loc=\"upper left\")\n",
    "plt.show()\n"
   ]
  }
 ],
 "metadata": {
  "kernelspec": {
   "display_name": "Python 3",
   "language": "python",
   "name": "python3"
  },
  "language_info": {
   "codemirror_mode": {
    "name": "ipython",
    "version": 3
   },
   "file_extension": ".py",
   "mimetype": "text/x-python",
   "name": "python",
   "nbconvert_exporter": "python",
   "pygments_lexer": "ipython3",
   "version": "3.7.3"
  }
 },
 "nbformat": 4,
 "nbformat_minor": 2
}
