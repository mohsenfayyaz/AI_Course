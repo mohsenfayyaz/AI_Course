{
 "cells": [
  {
   "cell_type": "code",
   "execution_count": 17,
   "metadata": {},
   "outputs": [],
   "source": [
    "# Load libraries\n",
    "import pandas as pd\n",
    "from sklearn.tree import DecisionTreeClassifier # Import Decision Tree Classifier\n",
    "from sklearn.model_selection import train_test_split # Import train_test_split function\n",
    "from sklearn import metrics #Import scikit-learn metrics module for accuracy calculation\n",
    "import random"
   ]
  },
  {
   "cell_type": "code",
   "execution_count": 2,
   "metadata": {},
   "outputs": [],
   "source": [
    "data = pd.read_csv('data.csv')\n",
    "Y = data.target\n",
    "X = data.drop(columns=['target'])"
   ]
  },
  {
   "cell_type": "code",
   "execution_count": 3,
   "metadata": {},
   "outputs": [],
   "source": [
    "X_train, X_test, y_train, y_test = train_test_split(X, Y, test_size=0.2, random_state=1)"
   ]
  },
  {
   "cell_type": "code",
   "execution_count": 4,
   "metadata": {},
   "outputs": [],
   "source": [
    "clf = DecisionTreeClassifier()\n",
    "clf = clf.fit(X_train,y_train)"
   ]
  },
  {
   "cell_type": "code",
   "execution_count": 5,
   "metadata": {},
   "outputs": [],
   "source": [
    "y_pred = clf.predict(X_test)"
   ]
  },
  {
   "cell_type": "code",
   "execution_count": 6,
   "metadata": {},
   "outputs": [
    {
     "name": "stdout",
     "output_type": "stream",
     "text": [
      "Accuracy: 0.7377049180327869\n"
     ]
    }
   ],
   "source": [
    "print(\"Accuracy:\",metrics.accuracy_score(y_test, y_pred))"
   ]
  },
  {
   "cell_type": "code",
   "execution_count": 7,
   "metadata": {},
   "outputs": [],
   "source": [
    "data = pd.read_csv('data.csv')\n",
    "Y = data.target\n",
    "X = data.drop(columns=['target'])"
   ]
  },
  {
   "cell_type": "code",
   "execution_count": 8,
   "metadata": {},
   "outputs": [],
   "source": [
    "X_train, X_test, y_train, y_test = train_test_split(X, Y, test_size=0.2, random_state=1)"
   ]
  },
  {
   "cell_type": "code",
   "execution_count": 9,
   "metadata": {},
   "outputs": [],
   "source": [
    "Xs_train = [X_train.sample(n = 150) for i in range(5)]"
   ]
  },
  {
   "cell_type": "code",
   "execution_count": 10,
   "metadata": {},
   "outputs": [],
   "source": [
    "ys_train = [y_train[x_train.index] for x_train in Xs_train]"
   ]
  },
  {
   "cell_type": "code",
   "execution_count": 11,
   "metadata": {},
   "outputs": [],
   "source": [
    "clfs = [DecisionTreeClassifier() for i in range(5)]\n",
    "fitted_clfs = [clfs[i].fit(Xs_train[i], ys_train[i]) for i in range(5)]"
   ]
  },
  {
   "cell_type": "code",
   "execution_count": 12,
   "metadata": {},
   "outputs": [],
   "source": [
    "preds = [fitted_clf.predict(X_test) for fitted_clf in fitted_clfs]"
   ]
  },
  {
   "cell_type": "code",
   "execution_count": 13,
   "metadata": {},
   "outputs": [],
   "source": [
    "final_preds = []\n",
    "for i in range(len(X_test)):\n",
    "    ones = [pred[i] for pred in preds].count(1)\n",
    "    zeros = [pred[i] for pred in preds].count(0)\n",
    "    if zeros < ones:\n",
    "        final_preds.append(1)\n",
    "    else:\n",
    "        final_preds.append(0)"
   ]
  },
  {
   "cell_type": "code",
   "execution_count": 14,
   "metadata": {},
   "outputs": [
    {
     "name": "stdout",
     "output_type": "stream",
     "text": [
      "Accuracy: 0.7213114754098361\n"
     ]
    }
   ],
   "source": [
    "print(\"Accuracy:\",metrics.accuracy_score(y_test, final_preds))"
   ]
  },
  {
   "cell_type": "code",
   "execution_count": 15,
   "metadata": {},
   "outputs": [],
   "source": [
    "def get_random_forest_accuracy_without_column(column):\n",
    "    data = pd.read_csv('data.csv')\n",
    "    Y = data.target\n",
    "    X = data.drop(columns=['target', column])\n",
    "    X_train, X_test, y_train, y_test = train_test_split(X, Y, test_size=0.2, random_state=1)\n",
    "    Xs_train = [X_train.sample(n = 150) for i in range(5)]\n",
    "    ys_train = [y_train[x_train.index] for x_train in Xs_train]\n",
    "    clfs = [DecisionTreeClassifier() for i in range(5)]\n",
    "    fitted_clfs = [clfs[i].fit(Xs_train[i], ys_train[i]) for i in range(5)]\n",
    "    preds = [fitted_clf.predict(X_test) for fitted_clf in fitted_clfs]\n",
    "    final_preds = []\n",
    "    for i in range(len(X_test)):\n",
    "        ones = [pred[i] for pred in preds].count(1)\n",
    "        zeros = [pred[i] for pred in preds].count(0)\n",
    "        if zeros < ones:\n",
    "            final_preds.append(1)\n",
    "        else:\n",
    "            final_preds.append(0)\n",
    "    return metrics.accuracy_score(y_test, final_preds)"
   ]
  },
  {
   "cell_type": "code",
   "execution_count": 16,
   "metadata": {},
   "outputs": [
    {
     "name": "stdout",
     "output_type": "stream",
     "text": [
      "age\n",
      "0.7377049180327869\n",
      "sex\n",
      "0.6885245901639344\n",
      "cp\n",
      "0.6721311475409836\n",
      "trestbps\n",
      "0.7213114754098361\n",
      "chol\n",
      "0.8032786885245902\n",
      "fbs\n",
      "0.7377049180327869\n",
      "restecg\n",
      "0.6885245901639344\n",
      "thalach\n",
      "0.7049180327868853\n",
      "exang\n",
      "0.7377049180327869\n",
      "oldpeak\n",
      "0.7377049180327869\n",
      "slope\n",
      "0.7377049180327869\n",
      "ca\n",
      "0.7377049180327869\n",
      "thal\n",
      "0.7049180327868853\n"
     ]
    }
   ],
   "source": [
    "data = pd.read_csv('data.csv')\n",
    "for column in data.columns:\n",
    "    if column != 'target':\n",
    "        print(column)\n",
    "        print(get_random_forest_accuracy_without_column(column))"
   ]
  },
  {
   "cell_type": "code",
   "execution_count": 33,
   "metadata": {},
   "outputs": [
    {
     "name": "stdout",
     "output_type": "stream",
     "text": [
      "Accuracy: 0.639344262295082\n"
     ]
    }
   ],
   "source": [
    "data = pd.read_csv('data.csv')\n",
    "columns = random.sample(list(data.columns), k = 5)\n",
    "columns.append('target')\n",
    "data = data[columns]\n",
    "Y = data.target\n",
    "X = data.drop(columns=['target'])\n",
    "X_train, X_test, y_train, y_test = train_test_split(X, Y, test_size=0.2, random_state=1)\n",
    "clf = DecisionTreeClassifier()\n",
    "clf = clf.fit(X_train,y_train)\n",
    "y_pred = clf.predict(X_test)\n",
    "print(\"Accuracy:\",metrics.accuracy_score(y_test, y_pred))"
   ]
  },
  {
   "cell_type": "code",
   "execution_count": 34,
   "metadata": {},
   "outputs": [],
   "source": [
    "def get_random_forest_accuracy_with(columns):\n",
    "    data = pd.read_csv('data.csv')\n",
    "    data = data[columns]\n",
    "    Y = data.target\n",
    "    X = data.drop(columns=['target'])\n",
    "    X_train, X_test, y_train, y_test = train_test_split(X, Y, test_size=0.2, random_state=1)\n",
    "    Xs_train = [X_train.sample(n = 150) for i in range(5)]\n",
    "    ys_train = [y_train[x_train.index] for x_train in Xs_train]\n",
    "    clfs = [DecisionTreeClassifier() for i in range(5)]\n",
    "    fitted_clfs = [clfs[i].fit(Xs_train[i], ys_train[i]) for i in range(5)]\n",
    "    preds = [fitted_clf.predict(X_test) for fitted_clf in fitted_clfs]\n",
    "    final_preds = []\n",
    "    for i in range(len(X_test)):\n",
    "        ones = [pred[i] for pred in preds].count(1)\n",
    "        zeros = [pred[i] for pred in preds].count(0)\n",
    "        if zeros < ones:\n",
    "            final_preds.append(1)\n",
    "        else:\n",
    "            final_preds.append(0)\n",
    "    return metrics.accuracy_score(y_test, final_preds)"
   ]
  },
  {
   "cell_type": "code",
   "execution_count": 35,
   "metadata": {},
   "outputs": [],
   "source": [
    "data = pd.read_csv('data.csv')\n",
    "columns = random.sample(list(data.columns), k = 5)\n",
    "columns.append('target')\n"
   ]
  },
  {
   "cell_type": "code",
   "execution_count": 36,
   "metadata": {},
   "outputs": [
    {
     "name": "stdout",
     "output_type": "stream",
     "text": [
      "0.7049180327868853\n"
     ]
    }
   ],
   "source": [
    "print(get_random_forest_accuracy_with(columns))"
   ]
  }
 ],
 "metadata": {
  "kernelspec": {
   "display_name": "Python 3",
   "language": "python",
   "name": "python3"
  },
  "language_info": {
   "codemirror_mode": {
    "name": "ipython",
    "version": 3
   },
   "file_extension": ".py",
   "mimetype": "text/x-python",
   "name": "python",
   "nbconvert_exporter": "python",
   "pygments_lexer": "ipython3",
   "version": "3.7.3"
  }
 },
 "nbformat": 4,
 "nbformat_minor": 2
}
