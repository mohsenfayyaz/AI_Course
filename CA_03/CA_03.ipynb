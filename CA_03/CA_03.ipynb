{
 "cells": [
  {
   "cell_type": "markdown",
   "metadata": {},
   "source": [
    "# AI - Project 03- Mohsen Fayyaz - 810196650"
   ]
  },
  {
   "cell_type": "markdown",
   "metadata": {},
   "source": [
    "## Model\n",
    "In bag-of-words model, a text (such as a sentence or a document) is represented as the bag (multiset) of its words, disregarding grammar and even word order but keeping multiplicity.\n",
    "\n",
    "The bag-of-words model is commonly used in methods of document classification where the (frequency of) occurrence of each word is used as a feature for training a classifier.\n",
    "\n",
    "So here we use the frequency of occurence of each word in sadi and hafez, as feature for training.\n",
    "\n",
    "$$ P(C_k \\mid X) = \\frac{P(X \\mid C_k) \\, P(C_k)}{P(X)} $$\n",
    "<b>Posterior $P(c|x)$:  </b>Probability of a word belonging to sadi/hafez class given the word. We can decide the poet of a new set of words, by comparing this probability for our two classes.\n",
    "\n",
    "<b>Class Prior $P(c)$: </b>Probabilty of the class occurunce in general. (like $p(sadi)=\\frac{sadi_{verses}}{all_{verses}}$ )<br>\n",
    "I chose different priors but 0.5 seems reasonable because the data can be biased and that should not affect the result. But I used other priors too, which can be used in the code.\n",
    "\n",
    "<b>Likelihood $P(x|c)$: </b>It's the probability of occurance of a word, given the class sadi/hafez. It's the number of that word in the sadi/hafez, divided by the number of all the words in sadi/hafez class.  \n",
    "\n",
    "<b>Evidence $P(x)$: </b>Probability of the word it's self which is the number of occurance of that word in the data set. Because this number is independent of the class, and we are going to compare p of the classes given the same words, this number would be the same in both sides of the comparison, so we can ignore it and never calculate it."
   ]
  },
  {
   "cell_type": "code",
   "execution_count": 385,
   "metadata": {},
   "outputs": [
    {
     "name": "stdout",
     "output_type": "stream",
     "text": [
      "Data set size: 16712 \n",
      "Test_set_size: 4177\n",
      "done\n"
     ]
    }
   ],
   "source": [
    "import csv\n",
    "import re\n",
    "import random\n",
    "import copy\n",
    "\n",
    "TRAIN_LIMIT = 16712  # 80% of 20890\n",
    "HAFEZ = \"hafez\"\n",
    "SADI = \"saadi\"\n",
    "\n",
    "\n",
    "sadi_verse_count = 0\n",
    "hafez_verse_count = 0\n",
    "sadi_all_words_count = 0\n",
    "hafez_all_words_count = 0\n",
    "words_set = set()\n",
    "\n",
    "def parse_data(random_sampling = True, whole = False):\n",
    "    data_set = list()\n",
    "    test_set = list()\n",
    "    row_count = 0\n",
    "    with open(\"train_test.csv\", encoding=\"utf8\") as csvfile:\n",
    "        csvreader = csv.reader(csvfile, delimiter=\",\")\n",
    "        next(csvreader)\n",
    "        row_count = sum(1 for row in csvreader)\n",
    "            \n",
    "    if random_sampling:\n",
    "        with open(\"train_test.csv\", encoding=\"utf8\") as csvfile:\n",
    "            csvreader = csv.reader(csvfile, delimiter=\",\")\n",
    "            next(csvreader)\n",
    "            data_size = 0\n",
    "            test_size = 0\n",
    "            for text, label in csvreader:\n",
    "                text = re.split(' |\\u200c', text)\n",
    "                if (random.randint(1,10) <= 8 and data_size <= TRAIN_LIMIT) or test_size+TRAIN_LIMIT >= row_count or whole:\n",
    "                    data_size += 1\n",
    "                    data_set.append([text, label])\n",
    "                else:\n",
    "                    test_size += 1\n",
    "                    test_set.append([text, label])\n",
    "    else:\n",
    "        with open(\"train_test.csv\", encoding=\"utf8\") as csvfile:\n",
    "            csvreader = csv.reader(csvfile, delimiter=\",\")\n",
    "            data_size = 0\n",
    "            test_size = 0\n",
    "            for text, label in csvreader:\n",
    "                text = re.split(' |\\u200c', text)\n",
    "                if data_size <= TRAIN_LIMIT:\n",
    "                    data_size += 1\n",
    "                    data_set.append([text, label])\n",
    "                else:\n",
    "                    test_size += 1\n",
    "                    test_set.append([text, label])\n",
    "    return data_set, test_set\n",
    "                    \n",
    "\n",
    "data_set, test_set = parse_data(random_sampling = True)\n",
    "print(\"Data set size:\", len(data_set), \"\\nTest_set_size:\", len(test_set))\n",
    "print(\"done\")"
   ]
  },
  {
   "cell_type": "markdown",
   "metadata": {},
   "source": [
    "Bayes' theorem\n",
    "--------------\n",
    "$$ P(C_k \\mid X) = \\frac{P(X \\mid C_k) \\, P(C_k)}{P(X)} $$\n",
    "$$ C_k = \\text{Sadi / Hafez} $$\n",
    "$$ X = WORDS $$ <br>"
   ]
  },
  {
   "cell_type": "markdown",
   "metadata": {},
   "source": [
    "we need to calculate following equation to determine probaility of being the new verse in Sadi class or Hafez class."
   ]
  },
  {
   "cell_type": "markdown",
   "metadata": {},
   "source": [
    "$$ P(C_k \\mid x_1,...,x_n) =  \\frac{P(x_1,...,x_n \\mid C_k) \\, P(C_k)}{P(x_1,...,x_n)}$$"
   ]
  },
  {
   "cell_type": "markdown",
   "metadata": {},
   "source": [
    "In practice, there is interest only in the numerator of that fraction, because the denominator does not depend on $C$ and the values of the features $x_{i}$ are given, so that the denominator is effectively constant. The numerator is equivalent to the joint probability model <br>\n",
    "$$ p(C_k, x_1,...,x_n) $$\n",
    "Now the \"naive\" conditional independence assumptions come into play: assume that all features in $x$ are mutually independent, conditional on the category $C_k$. Under this assumption, "
   ]
  },
  {
   "cell_type": "markdown",
   "metadata": {},
   "source": [
    "$$ p(x_i \\mid x_{i+1},...,x_n,C_k) = p(x_i\\mid C_k) $$"
   ]
  },
  {
   "cell_type": "markdown",
   "metadata": {},
   "source": [
    "Thus, the joint model can be expressed as <br>\n",
    "Naïve Bayes:"
   ]
  },
  {
   "cell_type": "markdown",
   "metadata": {},
   "source": [
    "$$ P(C_k \\mid x_1,...,x_n) \\propto p(C_k, x_1,...,x_n) $$<br>\n",
    "$$ = p(C_k)p(x_1 \\mid C_k)p(x_2 \\mid C_k)  $$<br>\n",
    "$$ = p(C_k) \\prod_{i=1}^{n} p(x_i \\mid C_k) $$"
   ]
  },
  {
   "cell_type": "markdown",
   "metadata": {},
   "source": [
    "Bayes Classifier<br>\n",
    "$$ \\hat y = \\underset{k \\in 1,...,K}{argmax} \\text{  } p(C_k) \\prod_{i=1}^{n} p(x_i \\mid C_k) $$"
   ]
  },
  {
   "cell_type": "markdown",
   "metadata": {},
   "source": [
    "$x_i$ are words seen in input which we make the probability table of it beforehand."
   ]
  },
  {
   "cell_type": "code",
   "execution_count": 386,
   "metadata": {
    "scrolled": false
   },
   "outputs": [
    {
     "name": "stdout",
     "output_type": "stream",
     "text": [
      "done\n"
     ]
    }
   ],
   "source": [
    "import numpy as np\n",
    "\n",
    "hafez_words_count = dict()\n",
    "sadi_words_count = dict()\n",
    "for data in data_set:\n",
    "    text = data[0]\n",
    "    label = data[1]\n",
    "    if label == SADI:\n",
    "        sadi_verse_count += 1\n",
    "        for word in text:\n",
    "            sadi_all_words_count += 1\n",
    "            words_set.add(word)\n",
    "            if word in sadi_words_count:\n",
    "                sadi_words_count[word] += 1\n",
    "            else:\n",
    "                sadi_words_count[word] = 1\n",
    "                \n",
    "    if label == HAFEZ:\n",
    "        hafez_verse_count += 1\n",
    "        for word in text:\n",
    "            hafez_all_words_count += 1\n",
    "            words_set.add(word)\n",
    "            if word in hafez_words_count:\n",
    "                hafez_words_count[word] += 1\n",
    "            else:\n",
    "                hafez_words_count[word] = 1\n",
    "\n",
    "# print(sadi_words_count)\n",
    "print(\"done\")"
   ]
  },
  {
   "cell_type": "code",
   "execution_count": 387,
   "metadata": {},
   "outputs": [],
   "source": [
    "def calculate_hafez_p(text):\n",
    "#     p = hafez_verse_count/(hafez_verse_count+sadi_verse_count)  #p(C_k)\n",
    "#     p = hafez_all_words_count/(hafez_all_words_count+sadi_all_words_count)  #p(C_k)\n",
    "#     p = len(sadi_words_count)/(len(hafez_words_count)+len(sadi_words_count))  #p(C_k)\n",
    "    p = 0.5\n",
    "#     p = hafez_verse_count/(hafez_verse_count+sadi_verse_count)) #p(C_k)\n",
    "    for word in text:\n",
    "        if word not in sadi_words_count and word not in hafez_words_count:\n",
    "            continue\n",
    "        if word in hafez_words_count:\n",
    "            p *= (hafez_words_count[word]/hafez_all_words_count)\n",
    "#             p += np.log(hafez_words_count[word]/len(hafez_words_count))\n",
    "        else:\n",
    "            p *= 0\n",
    "    return p\n",
    "            \n",
    "def calculate_sadi_p(text):\n",
    "#     p = sadi_verse_count/(hafez_verse_count+sadi_verse_count)  #p(C_k)\n",
    "#     p = sadi_all_words_count/(hafez_all_words_count+sadi_all_words_count)  #p(C_k)\n",
    "#     p = len(sadi_words_count)/(len(hafez_words_count)+len(sadi_words_count))  #p(C_k)\n",
    "    p = 0.5\n",
    "#     p = sadi_verse_count/(hafez_verse_count+sadi_verse_count)  #p(C_k)\n",
    "    for word in text:\n",
    "        if word not in sadi_words_count and word not in hafez_words_count:\n",
    "            continue\n",
    "        if word in sadi_words_count:\n",
    "            p *= (sadi_words_count[word]/sadi_all_words_count)\n",
    "#             p += np.log(sadi_words_count[word]/len(sadi_words_count))\n",
    "        else:\n",
    "            p *= 0\n",
    "    return p"
   ]
  },
  {
   "cell_type": "code",
   "execution_count": 388,
   "metadata": {},
   "outputs": [
    {
     "name": "stdout",
     "output_type": "stream",
     "text": [
      "Accuracy: 0.7538903519272205\n",
      "Recall: 0.7181400688863375\n",
      "Precision: 0.6996644295302014\n"
     ]
    }
   ],
   "source": [
    "correct = 0\n",
    "correct_hafezes = 0\n",
    "all_hafezez = 0\n",
    "all_detected_hafezes = 0\n",
    "for data in test_set:\n",
    "    text = data[0]\n",
    "    label = data[1]\n",
    "    if label == HAFEZ:\n",
    "        all_hafezez += 1\n",
    "        \n",
    "    if calculate_hafez_p(text) >= calculate_sadi_p(text):\n",
    "        all_detected_hafezes += 1\n",
    "        if label == HAFEZ:\n",
    "            correct += 1\n",
    "            correct_hafezes += 1\n",
    "#         print(\"H\", label, text)\n",
    "    else:\n",
    "        if label == SADI:\n",
    "            correct += 1\n",
    "#         print(\"S\", label, text)\n",
    "        \n",
    "print(\"Accuracy:\", correct/len(test_set))\n",
    "print(\"Recall:\", correct_hafezes/all_hafezez)\n",
    "print(\"Precision:\", correct_hafezes/all_detected_hafezes)"
   ]
  },
  {
   "cell_type": "markdown",
   "metadata": {},
   "source": [
    "# Extra Questions"
   ]
  },
  {
   "cell_type": "markdown",
   "metadata": {},
   "source": [
    "## 1)Precision\n",
    "In a classification task, the precision for a class is the number of true positives (i.e. the number of items correctly labeled as belonging to the positive class) divided by the total number of elements labeled as belonging to the positive class (i.e. the sum of true positives and false positives, which are items incorrectly labeled as belonging to the class).\n",
    "\n",
    "Precision can be seen as a measure of exactness or quality, whereas recall is a measure of completeness or quantity.\n",
    "\n",
    "In simple terms, high precision means that an algorithm returned substantially more relevant results than irrelevant ones, while high recall means that an algorithm returned most of the relevant results. \n",
    "\n",
    "Consider a brain surgeon tasked with removing a cancerous tumor from a patient’s brain. The surgeon needs to remove all of the tumor cells since any remaining cancer cells will regenerate the tumor. Conversely, the surgeon must not remove healthy brain cells since that would leave the patient with impaired brain function. The surgeon may be more liberal in the area of the brain he removes to ensure he has extracted all the cancer cells. This decision increases recall but reduces precision. On the other hand, the surgeon may be more conservative in the brain he removes to ensure he extracts only cancer cells. This decision increases precision but reduces recall. That is to say, greater recall increases the chances of removing healthy cells (negative outcome) and increases the chances of removing all cancer cells (positive outcome). Greater precision decreases the chances of removing healthy cells (positive outcome) but also decreases the chances of removing all cancer cells (negative outcome). \n",
    "\n",
    "Usually, precision and recall scores are not discussed in isolation. Instead, either values for one measure are compared for a fixed level at the other measure (e.g. precision at a recall level of 0.75) or both are combined into a single measure.\n",
    "\n",
    "High precision agent can only detect what it's sure is in one class and ignore others. So it will have very few objects in one class while there were many others left out of the class. This way the precision is very high because things that are detected in class were actually in that class but lots of other things were ignored.\n",
    "\n",
    "Low recall, high precision\n",
    "<img width=\"60%\" src=\"https://miro.medium.com/max/1024/1*gr8KCdTa0NftwE3N6l7i8g.png\" />"
   ]
  },
  {
   "cell_type": "markdown",
   "metadata": {},
   "source": [
    "## 2) Accuracy\n",
    "Accuracy does not perform well with imbalanced data sets. For example, if you have 95 negative and 5 positive samples, classifying all as negative gives 0.95 accuracy score."
   ]
  },
  {
   "cell_type": "markdown",
   "metadata": {},
   "source": [
    "# Additive smoothing (Laplace smoothing)\n",
    "The problem is if a word does not exist in the dataset of a poet, the probability of that class will be zero because we are multiplying p by this words probability which is 0, therefor that test data will be classified in the other poet's class defenitiley because of that one and only word.\n",
    "\n",
    "For solving this problem we can use Additive smoothing which gives a low probability to unknown words which is more than zero to overcome this problem.\n",
    "\n",
    "Let c refer to a class (such as Positive or Negative), and let w refer to a token or word.\n",
    "\n",
    "The maximum likelihood estimator for $P(w|c)$ is \n",
    "$$ \\frac{count(w,c)}{count(c)}= \\frac{\\text{counts w in class c}}{\\text{counts of words in class c.}} $$\n",
    "\n",
    "This estimation of $P(w|c)$ could be problematic since it would give us probability 0 for documents with unknown words.\n",
    "\n",
    "A common way of solving this problem is to use Laplace smoothing.\n",
    "\n",
    "Let $V$ be the set of words in the training set, add a new element $UNK$ (for unknown) to the set of words.\n",
    "\n",
    "Define \n",
    "\n",
    "$$ P(w|c)=\\frac{count(w,c)+1}{count(c)+|V|+1} $$\n",
    "\n",
    "where $V$ refers to the vocabulary (the words in the training set).\n",
    "\n",
    "In particular, any unknown word will have probability\n",
    "$ \\frac{1}{count(c)+|V|+1}$"
   ]
  },
  {
   "cell_type": "code",
   "execution_count": 393,
   "metadata": {},
   "outputs": [],
   "source": [
    "def calculate_hafez_p(text):\n",
    "#     p = hafez_verse_count/(hafez_verse_count+sadi_verse_count)  #p(C_k)\n",
    "#     p = hafez_all_words_count/(hafez_all_words_count+sadi_all_words_count)  #p(C_k)\n",
    "#     p = len(hafez_words_count)/(len(hafez_words_count)+len(sadi_words_count))  #p(C_k)\n",
    "    p = 0.5\n",
    "    p = np.log(p)\n",
    "    for word in text:\n",
    "        if word not in sadi_words_count and word not in hafez_words_count:\n",
    "            continue\n",
    "        if word in hafez_words_count:\n",
    "            word_count = hafez_words_count[word]\n",
    "        else:\n",
    "            word_count = 0\n",
    "#         p *= ((word_count+1)/(len(words_set) + hafez_all_words_count + 1 ))\n",
    "        p += np.log( ((word_count+1)/(len(words_set) + hafez_all_words_count + 1 )) )\n",
    "\n",
    "    return p\n",
    "            \n",
    "def calculate_sadi_p(text):\n",
    "#     p = sadi_verse_count/(hafez_verse_count+sadi_verse_count)  #p(C_k)\n",
    "#     p = sadi_all_words_count/(hafez_all_words_count+sadi_all_words_count)  #p(C_k)\n",
    "#     p = len(sadi_words_count)/(len(hafez_words_count)+len(sadi_words_count)) #p(C_k)\n",
    "    p = 0.5\n",
    "    p = np.log(p)\n",
    "    for word in text:\n",
    "        if word not in sadi_words_count and word not in hafez_words_count:\n",
    "            continue\n",
    "        if word in sadi_words_count:\n",
    "            word_count = sadi_words_count[word]\n",
    "        else:\n",
    "            word_count = 0\n",
    "            \n",
    "#         p *= ((word_count+1)/(len(words_set) + sadi_all_words_count + 1 ))\n",
    "        p += np.log( ((word_count+1)/(len(words_set) + sadi_all_words_count + 1 )) )\n",
    "\n",
    "    return p"
   ]
  },
  {
   "cell_type": "markdown",
   "metadata": {},
   "source": [
    "For preventing the calculation of very small numbers and probable imprecision in the multiplications, we can have a log on the equation, which changes the multiplications by addition.\n",
    "\n",
    "These small numbers doesn't create any problems in short test datas, but it can be a big problem for long poems."
   ]
  },
  {
   "cell_type": "code",
   "execution_count": 394,
   "metadata": {},
   "outputs": [
    {
     "name": "stdout",
     "output_type": "stream",
     "text": [
      "Accuracy: 0.7833373234378741\n",
      "Recall: 0.7284730195177956\n",
      "Precision: 0.746031746031746\n"
     ]
    }
   ],
   "source": [
    "correct = 0\n",
    "correct_hafezes = 0\n",
    "all_hafezez = 0\n",
    "all_detected_hafezes = 0\n",
    "for data in test_set:\n",
    "    text = data[0]\n",
    "    label = data[1]\n",
    "    if label == HAFEZ:\n",
    "        all_hafezez += 1\n",
    "    if calculate_hafez_p(text) >= calculate_sadi_p(text):\n",
    "        all_detected_hafezes += 1\n",
    "        if label == HAFEZ:\n",
    "            correct += 1\n",
    "            correct_hafezes += 1\n",
    "#         print(\"H\", label, text)\n",
    "    else:\n",
    "        if label == SADI:\n",
    "            correct += 1\n",
    "#         print(\"S\", label, text)\n",
    "        \n",
    "print(\"Accuracy:\", correct/len(test_set))\n",
    "print(\"Recall:\", correct_hafezes/all_hafezez)\n",
    "print(\"Precision:\", correct_hafezes/all_detected_hafezes)\n"
   ]
  },
  {
   "cell_type": "markdown",
   "metadata": {},
   "source": [
    "As shown above this laplace method increase the accuracy by 0.03 and also we got better recall and precision.\n",
    "\n",
    "In the simple problem without smoothing I am ignoring words which are not in any of two classes to prevent facing situations in which the probability of both classes for a poem is 0 and we have nothing to choose between two classes.\n",
    "\n",
    "Below is a plot of these 3 steps and their accuracy."
   ]
  },
  {
   "cell_type": "code",
   "execution_count": 395,
   "metadata": {},
   "outputs": [
    {
     "data": {
      "image/png": "[encoded data removed]",
      "text/plain": [
       "<Figure size 1440x648 with 1 Axes>"
      ]
     },
     "metadata": {
      "needs_background": "light"
     },
     "output_type": "display_data"
    }
   ],
   "source": [
    "import matplotlib.pyplot as plt\n",
    "\n",
    "accuracy = [0.66, 0.75, 0.78]\n",
    "recall = [0.78, 0.70, 0.71]\n",
    "precision = [0.55, 0.69, 0.74]\n",
    "x = [\"simple\", \"simple removing both 0\", \"Laplace Smoothing\"]\n",
    "line_width = 4\n",
    "\n",
    "plt.figure(figsize=(20, 9))\n",
    "plt.plot(x, accuracy, '-o', label=\"Accuracy\", linewidth=line_width)\n",
    "plt.plot(x, recall, '-o', label=\"Recall\", linewidth=line_width)\n",
    "plt.plot(x, precision, '-o', label=\"Precision\", linewidth=line_width)\n",
    "plt.title(\"Accuracy Comparison\")\n",
    "# plt.xlabel(\"1: simple\\n2: simple removing both 0\\n3: Laplace Smoothing\")\n",
    "# plt.ylabel(\".\")\n",
    "plt.legend(loc=\"upper left\")\n",
    "plt.show()\n",
    "\n"
   ]
  },
  {
   "cell_type": "markdown",
   "metadata": {},
   "source": [
    "In simple algorithm the recall is way higher than Precision because I chose to give the test to Hafez in cases of tie 0-0 between classes."
   ]
  },
  {
   "cell_type": "markdown",
   "metadata": {},
   "source": [
    "# Evaluate"
   ]
  },
  {
   "cell_type": "code",
   "execution_count": 396,
   "metadata": {},
   "outputs": [
    {
     "name": "stdout",
     "output_type": "stream",
     "text": [
      "set size: 1082\n",
      "done\n"
     ]
    }
   ],
   "source": [
    "def parse_eval_data(file_name):\n",
    "    data_set = list()\n",
    "    ids = list()\n",
    "    with open(file_name, encoding=\"utf8\") as csvfile:\n",
    "        csvreader = csv.reader(csvfile, delimiter=\",\")\n",
    "        next(csvreader)\n",
    "        for id, text in csvreader:\n",
    "            text = re.split(' |\\u200c', text)\n",
    "            data_set.append([id, text])\n",
    "            ids.append(id)\n",
    "    return ids, data_set\n",
    "                    \n",
    "\n",
    "ids, eval_set = parse_eval_data(\"evaluate.csv\")\n",
    "print(\"set size:\", len(eval_set))\n",
    "print(\"done\")"
   ]
  },
  {
   "cell_type": "markdown",
   "metadata": {},
   "source": [
    "80%"
   ]
  },
  {
   "cell_type": "code",
   "execution_count": 397,
   "metadata": {},
   "outputs": [],
   "source": [
    "def write_csv(data, file_name):\n",
    "    with open(file_name, mode='w', newline='') as csv_file:\n",
    "        fieldnames = ['id', 'label']\n",
    "        writer = csv.DictWriter(csv_file, fieldnames=fieldnames)\n",
    "        writer.writeheader()\n",
    "        writer.writerows(data)"
   ]
  },
  {
   "cell_type": "code",
   "execution_count": 398,
   "metadata": {},
   "outputs": [
    {
     "name": "stdout",
     "output_type": "stream",
     "text": [
      "Done\n"
     ]
    }
   ],
   "source": [
    "csv_data = []\n",
    "for data in eval_set:\n",
    "    id = data[0]\n",
    "    text = data[1]\n",
    "    if calculate_hafez_p(text) >= calculate_sadi_p(text):\n",
    "        csv_data.append({'id': str(id), 'label': HAFEZ})\n",
    "    else:\n",
    "        csv_data.append({'id': str(id), 'label': SADI})\n",
    "write_csv(csv_data, 'output80.csv')\n",
    "print(\"Done\")"
   ]
  },
  {
   "cell_type": "markdown",
   "metadata": {},
   "source": [
    "100%"
   ]
  },
  {
   "cell_type": "code",
   "execution_count": 399,
   "metadata": {},
   "outputs": [
    {
     "name": "stdout",
     "output_type": "stream",
     "text": [
      "Data set size: 20889 \n",
      "Test_set_size: 0\n",
      "done\n",
      "done\n"
     ]
    }
   ],
   "source": [
    "data_set, test_set2 = parse_data(whole = True)\n",
    "print(\"Data set size:\", len(data_set), \"\\nTest_set_size:\", len(test_set2))\n",
    "print(\"done\")\n",
    "\n",
    "hafez_words_count = dict()\n",
    "sadi_words_count = dict()\n",
    "for data in data_set:\n",
    "    text = data[0]\n",
    "    label = data[1]\n",
    "    if label == SADI:\n",
    "        sadi_verse_count += 1\n",
    "        for word in text:\n",
    "            sadi_all_words_count += 1\n",
    "            words_set.add(word)\n",
    "            if word in sadi_words_count:\n",
    "                sadi_words_count[word] += 1\n",
    "            else:\n",
    "                sadi_words_count[word] = 1\n",
    "                \n",
    "    if label == HAFEZ:\n",
    "        hafez_verse_count += 1\n",
    "        for word in text:\n",
    "            hafez_all_words_count += 1\n",
    "            words_set.add(word)\n",
    "            if word in hafez_words_count:\n",
    "                hafez_words_count[word] += 1\n",
    "            else:\n",
    "                hafez_words_count[word] = 1\n",
    "\n",
    "print(\"done\")"
   ]
  },
  {
   "cell_type": "code",
   "execution_count": 400,
   "metadata": {},
   "outputs": [],
   "source": [
    "def calculate_hafez_p(text):\n",
    "#     p = hafez_verse_count/(hafez_verse_count+sadi_verse_count)  #p(C_k)\n",
    "#     p = hafez_all_words_count/(hafez_all_words_count+sadi_all_words_count)  #p(C_k)\n",
    "#     p = len(hafez_words_count)/(len(hafez_words_count)+len(sadi_words_count))  #p(C_k)\n",
    "    p = 0.5\n",
    "    p = np.log(p)\n",
    "    for word in text:\n",
    "        if word not in sadi_words_count and word not in hafez_words_count:\n",
    "            continue\n",
    "        if word in hafez_words_count:\n",
    "            word_count = hafez_words_count[word]\n",
    "        else:\n",
    "            word_count = 0\n",
    "#         p *= ((word_count+1)/(len(words_set) + hafez_all_words_count + 1 ))\n",
    "        p += np.log( ((word_count+1)/(len(words_set) + hafez_all_words_count + 1 )) )\n",
    "\n",
    "    return p\n",
    "            \n",
    "def calculate_sadi_p(text):\n",
    "#     p = sadi_verse_count/(hafez_verse_count+sadi_verse_count)  #p(C_k)\n",
    "#     p = sadi_all_words_count/(hafez_all_words_count+sadi_all_words_count)  #p(C_k)\n",
    "#     p = len(sadi_words_count)/(len(hafez_words_count)+len(sadi_words_count)) #p(C_k)\n",
    "    p = 0.5\n",
    "    p = np.log(p)\n",
    "    for word in text:\n",
    "        if word not in sadi_words_count and word not in hafez_words_count:\n",
    "            continue\n",
    "        if word in sadi_words_count:\n",
    "            word_count = sadi_words_count[word]\n",
    "        else:\n",
    "            word_count = 0\n",
    "            \n",
    "#         p *= ((word_count+1)/(len(words_set) + sadi_all_words_count + 1 ))\n",
    "        p += np.log( ((word_count+1)/(len(words_set) + sadi_all_words_count + 1 )) )\n",
    "\n",
    "    return p"
   ]
  },
  {
   "cell_type": "code",
   "execution_count": 401,
   "metadata": {},
   "outputs": [
    {
     "name": "stdout",
     "output_type": "stream",
     "text": [
      "Accuracy: 0.8711994254249461\n",
      "Recall: 0.8645235361653272\n",
      "Precision: 0.8329646017699115\n"
     ]
    }
   ],
   "source": [
    "correct = 0\n",
    "correct_hafezes = 0\n",
    "all_hafezez = 0\n",
    "all_detected_hafezes = 0\n",
    "for data in test_set:\n",
    "    text = data[0]\n",
    "    label = data[1]\n",
    "    if label == HAFEZ:\n",
    "        all_hafezez += 1\n",
    "    if calculate_hafez_p(text) >= calculate_sadi_p(text):\n",
    "        all_detected_hafezes += 1\n",
    "        if label == HAFEZ:\n",
    "            correct += 1\n",
    "            correct_hafezes += 1\n",
    "#         print(\"H\", label, text)\n",
    "    else:\n",
    "        if label == SADI:\n",
    "            correct += 1\n",
    "#         print(\"S\", label, text)\n",
    "        \n",
    "print(\"Accuracy:\", correct/len(test_set))\n",
    "print(\"Recall:\", correct_hafezes/all_hafezez)\n",
    "print(\"Precision:\", correct_hafezes/all_detected_hafezes)"
   ]
  },
  {
   "cell_type": "code",
   "execution_count": 402,
   "metadata": {},
   "outputs": [
    {
     "name": "stdout",
     "output_type": "stream",
     "text": [
      "Done\n"
     ]
    }
   ],
   "source": [
    "csv_data = []\n",
    "for data in eval_set:\n",
    "    id = data[0]\n",
    "    text = data[1]\n",
    "    if calculate_hafez_p(text) >= calculate_sadi_p(text):\n",
    "        csv_data.append({'id': str(id), 'label': HAFEZ})\n",
    "    else:\n",
    "        csv_data.append({'id': str(id), 'label': SADI})\n",
    "write_csv(csv_data, 'output100.csv')\n",
    "print(\"Done\")"
   ]
  }
 ],
 "metadata": {
  "kernelspec": {
   "display_name": "Python 3",
   "language": "python",
   "name": "python3"
  },
  "language_info": {
   "codemirror_mode": {
    "name": "ipython",
    "version": 3
   },
   "file_extension": ".py",
   "mimetype": "text/x-python",
   "name": "python",
   "nbconvert_exporter": "python",
   "pygments_lexer": "ipython3",
   "version": "3.7.3"
  }
 },
 "nbformat": 4,
 "nbformat_minor": 2
}
