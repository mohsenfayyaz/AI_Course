{
 "cells": [
  {
   "cell_type": "code",
   "execution_count": 146,
   "metadata": {},
   "outputs": [
    {
     "name": "stdout",
     "output_type": "stream",
     "text": [
      "done\n"
     ]
    }
   ],
   "source": [
    "import csv\n",
    "import re\n",
    "\n",
    "TRAIN_LIMIT = 16712  # 80% of 20890\n",
    "HAFEZ = \"hafez\"\n",
    "SADI = \"saadi\"\n",
    "\n",
    "data_set = list()\n",
    "test_set = list()\n",
    "sadi_verse_count = 0\n",
    "hafez_verse_count = 0\n",
    "words_set = set()\n",
    "with open(\"train_test.csv\", encoding=\"utf8\") as csvfile:\n",
    "    csvreader = csv.reader(csvfile, delimiter=\",\")\n",
    "    i = 0\n",
    "    for text, label in csvreader:\n",
    "        if i <= TRAIN_LIMIT:\n",
    "            if label == SADI:\n",
    "                sadi_verse_count += 1\n",
    "            elif label == HAFEZ:\n",
    "                hafez_verse_count += 1\n",
    "            text = re.split(' |\\u200c', text)\n",
    "            data_set.append([text, label])\n",
    "        else:\n",
    "            test_set.append([text, label])\n",
    "        i += 1\n",
    "#         print(text, label)\n",
    "\n",
    "print(\"done\")"
   ]
  },
  {
   "cell_type": "markdown",
   "metadata": {},
   "source": [
    "Bayes' theorem\n",
    "--------------\n",
    "$$ P(C_k \\mid X) = \\frac{P(X \\mid C_k) \\, P(C_k)}{P(X)} $$\n",
    "$$ C_k = \\text{Sadi / Hafez} $$\n",
    "$$ X = WORDS $$ <br>"
   ]
  },
  {
   "cell_type": "markdown",
   "metadata": {},
   "source": [
    "we need to calculate following equation to determine probaility of being the new verse in Sadi class or Hafez class."
   ]
  },
  {
   "cell_type": "markdown",
   "metadata": {},
   "source": [
    "$$ P(C_k \\mid x_1,...,x_n) =  \\frac{P(x_1,...,x_n \\mid C_k) \\, P(C_k)}{P(x_1,...,x_n)}$$"
   ]
  },
  {
   "cell_type": "markdown",
   "metadata": {},
   "source": [
    "In practice, there is interest only in the numerator of that fraction, because the denominator does not depend on $C$ and the values of the features $x_{i}$ are given, so that the denominator is effectively constant. The numerator is equivalent to the joint probability model <br>\n",
    "$$ p(C_k, x_1,...,x_n) $$\n",
    "Now the \"naive\" conditional independence assumptions come into play: assume that all features in $x$ are mutually independent, conditional on the category $C_k$. Under this assumption, "
   ]
  },
  {
   "cell_type": "markdown",
   "metadata": {},
   "source": [
    "$$ p(x_i \\mid x_{i+1},...,x_n,C_k) = p(x_i\\mid C_k) $$"
   ]
  },
  {
   "cell_type": "markdown",
   "metadata": {},
   "source": [
    "Thus, the joint model can be expressed as <br>\n",
    "Naïve Bayes:"
   ]
  },
  {
   "cell_type": "markdown",
   "metadata": {},
   "source": [
    "$$ P(C_k \\mid x_1,...,x_n) \\propto p(C_k, x_1,...,x_n) $$<br>\n",
    "$$ = p(C_k)p(x_1 \\mid C_k)p(x_2 \\mid C_k)  $$<br>\n",
    "$$ = p(C_k) \\prod_{i=1}^{n} p(x_i \\mid C_k) $$"
   ]
  },
  {
   "cell_type": "markdown",
   "metadata": {},
   "source": [
    "Bayes Classifier<br>\n",
    "$$ \\hat y = \\underset{k \\in 1,...,K}{argmax} \\text{  } p(C_k) \\prod_{i=1}^{n} p(x_i \\mid C_k) $$"
   ]
  },
  {
   "cell_type": "markdown",
   "metadata": {},
   "source": [
    "$x_i$ are words seen in input which we make the probability table of it beforehand."
   ]
  },
  {
   "cell_type": "code",
   "execution_count": 147,
   "metadata": {
    "scrolled": false
   },
   "outputs": [
    {
     "name": "stdout",
     "output_type": "stream",
     "text": [
      "done\n"
     ]
    }
   ],
   "source": [
    "import numpy as np\n",
    "\n",
    "hafez_words_count = dict()\n",
    "sadi_words_count = dict()\n",
    "for data in data_set:\n",
    "    text = data[0]\n",
    "    label = data[1]\n",
    "    if label == SADI:\n",
    "        for word in text:\n",
    "            words_set.add(word)\n",
    "            if word in sadi_words_count:\n",
    "                sadi_words_count[word] += 1\n",
    "            else:\n",
    "                sadi_words_count[word] = 1\n",
    "    if label == HAFEZ:\n",
    "        for word in text:\n",
    "            words_set.add(word)\n",
    "            if word in hafez_words_count:\n",
    "                hafez_words_count[word] += 1\n",
    "            else:\n",
    "                hafez_words_count[word] = 1\n",
    "\n",
    "# print(sadi_words_count)\n",
    "print(\"done\")"
   ]
  },
  {
   "cell_type": "markdown",
   "metadata": {},
   "source": [
    "Let c refer to a class (such as Positive or Negative), and let w refer to a token or word.\n",
    "\n",
    "The maximum likelihood estimator for $P(w|c)$ is \n",
    "$$ \\frac{count(w,c)}{count(c)}= \\frac{\\text{counts w in class c}}{\\text{counts of words in class c.}} $$\n",
    "\n",
    "This estimation of $P(w|c)$ could be problematic since it would give us probability 0 for documents with unknown words.\n",
    "\n",
    "A common way of solving this problem is to use Laplace smoothing.\n",
    "\n",
    "Let $V$ be the set of words in the training set, add a new element $UNK$ (for unknown) to the set of words.\n",
    "\n",
    "Define \n",
    "\n",
    "$$ P(w|c)=\\frac{count(w,c)+1}{count(c)+|V|+1} $$\n",
    "\n",
    "where $V$ refers to the vocabulary (the words in the training set).\n",
    "\n",
    "In particular, any unknown word will have probability\n",
    "$ \\frac{1}{count(c)+|V|+1}$"
   ]
  },
  {
   "cell_type": "code",
   "execution_count": 156,
   "metadata": {},
   "outputs": [],
   "source": [
    "def calculate_hafez_p(text):\n",
    "    p = hafez_verse_count/(hafez_verse_count+sadi_verse_count)  #p(C_k)\n",
    "#     p = np.log(hafez_verse_count/(hafez_verse_count+sadi_verse_count))  #p(C_k)\n",
    "    for word in text:\n",
    "        if word in hafez_words_count:\n",
    "            p *= (hafez_words_count[word]/len(hafez_words_count))\n",
    "#             p += np.log(hafez_words_count[word]/len(hafez_words_count))\n",
    "        else:\n",
    "            p = 0\n",
    "    return p\n",
    "            \n",
    "def calculate_sadi_p(text):\n",
    "    p = sadi_verse_count/(hafez_verse_count+sadi_verse_count)  #p(C_k)\n",
    "#     p = np.log(sadi_verse_count/(hafez_verse_count+sadi_verse_count))  #p(C_k)\n",
    "    for word in text:\n",
    "        if word in sadi_words_count:\n",
    "            p *= (sadi_words_count[word]/len(sadi_words_count))\n",
    "#             p += np.log(sadi_words_count[word]/len(sadi_words_count))\n",
    "        else:\n",
    "            p = 0\n",
    "    return p"
   ]
  },
  {
   "cell_type": "code",
   "execution_count": 157,
   "metadata": {},
   "outputs": [
    {
     "name": "stdout",
     "output_type": "stream",
     "text": [
      "0.7198946612401245\n"
     ]
    }
   ],
   "source": [
    "correct = 0\n",
    "for data in test_set:\n",
    "    text = data[0]\n",
    "    label = data[1]\n",
    "    text = re.split(' |\\u200c', text)\n",
    "    if calculate_hafez_p(text) > calculate_sadi_p(text):\n",
    "        if label == HAFEZ:\n",
    "            correct += 1\n",
    "#         print(\"H\", label, text)\n",
    "    else:\n",
    "        if label == SADI:\n",
    "            correct += 1\n",
    "#         print(\"S\", label, text)\n",
    "        \n",
    "print(correct/len(test_set))"
   ]
  },
  {
   "cell_type": "markdown",
   "metadata": {},
   "source": [
    "## Additive smoothing (Laplace smoothing)"
   ]
  },
  {
   "cell_type": "code",
   "execution_count": 158,
   "metadata": {},
   "outputs": [],
   "source": [
    "def calculate_hafez_p(text):\n",
    "    p = hafez_verse_count/(hafez_verse_count+sadi_verse_count)  #p(C_k)\n",
    "    for word in text:\n",
    "        if word in hafez_words_count:\n",
    "            p *= ((hafez_words_count[word]+1)/(len(words_set) + len(hafez_words_count) + 1 ))\n",
    "        else:\n",
    "            p = 0\n",
    "    return p\n",
    "            \n",
    "def calculate_sadi_p(text):\n",
    "    p = sadi_verse_count/(hafez_verse_count+sadi_verse_count)  #p(C_k)\n",
    "    for word in text:\n",
    "        if word in sadi_words_count:\n",
    "            p *= ((sadi_words_count[word]+1)/(len(words_set) + len(sadi_words_count) + 1 ))\n",
    "        else:\n",
    "            p = 0\n",
    "    return p"
   ]
  },
  {
   "cell_type": "code",
   "execution_count": 159,
   "metadata": {},
   "outputs": [
    {
     "name": "stdout",
     "output_type": "stream",
     "text": [
      "0.7019391908067991\n"
     ]
    }
   ],
   "source": [
    "correct = 0\n",
    "for data in test_set:\n",
    "    text = data[0]\n",
    "    label = data[1]\n",
    "    text = re.split(' |\\u200c', text)\n",
    "    if calculate_hafez_p(text) > calculate_sadi_p(text):\n",
    "        if label == HAFEZ:\n",
    "            correct += 1\n",
    "#         print(\"H\", label, text)\n",
    "    else:\n",
    "        if label == SADI:\n",
    "            correct += 1\n",
    "#         print(\"S\", label, text)\n",
    "        \n",
    "print(correct/len(test_set))"
   ]
  },
  {
   "cell_type": "code",
   "execution_count": null,
   "metadata": {},
   "outputs": [],
   "source": []
  }
 ],
 "metadata": {
  "kernelspec": {
   "display_name": "Python 3",
   "language": "python",
   "name": "python3"
  },
  "language_info": {
   "codemirror_mode": {
    "name": "ipython",
    "version": 3
   },
   "file_extension": ".py",
   "mimetype": "text/x-python",
   "name": "python",
   "nbconvert_exporter": "python",
   "pygments_lexer": "ipython3",
   "version": "3.7.3"
  }
 },
 "nbformat": 4,
 "nbformat_minor": 2
}
