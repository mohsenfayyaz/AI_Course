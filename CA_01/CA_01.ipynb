{
 "cells": [
  {
   "cell_type": "markdown",
   "metadata": {},
   "source": [
    "# AI - Project 01- Mohsen Fayyaz - 810196650"
   ]
  },
  {
   "cell_type": "markdown",
   "metadata": {},
   "source": [
    "## a)\n",
    "Data is being read and cleaned by removing non numeric columns and filling NaNs with corresponding column mean.\n",
    "Then 9 plots for each column of data(properties) are being drawn, relative to the houses \"SalePrice\"."
   ]
  },
  {
   "cell_type": "code",
   "execution_count": 1,
   "metadata": {
    "scrolled": false,
    "pycharm": {
     "is_executing": false
    }
   },
   "outputs": [],
   "source": [
    "import pandas as pd\n",
    "import numpy as np\n",
    "import matplotlib.pyplot as plt\n",
    "\n",
    "P_CHAR = \"P\"\n",
    "Q_CHAR = \"Q\"\n",
    "WALL = \"%\"\n",
    "EMPTY = \" \"\n",
    "P_FOOD = \"1\"\n",
    "Q_FOOD = \"2\"\n",
    "BOTH_FOOD = \"3\"\n",
    "\n",
    "\n",
    "\n",
    "def find_in_map(the_map, char):\n",
    "    for line in the_map:\n",
    "        if line.find(char) >= 0:\n",
    "            return the_map.index(line), line.find(char)\n",
    "        \n",
    "def BFS(the_map):\n",
    "    \n",
    "        \n",
    "def main():\n",
    "    with open('test1', 'r') as file:\n",
    "        pac_map = file.read().splitlines()\n",
    "    p_row, p_col = find_in_map(pac_map, P_CHAR)\n",
    "    q_row, q_col = find_in_map(pac_map, Q_CHAR)\n",
    "    \n",
    "\n",
    "main()"
   ]
  },
  {
   "cell_type": "markdown",
   "metadata": {},
   "source": [
    "## b)"
   ]
  },
  {
   "cell_type": "markdown",
   "metadata": {},
   "source": [
    "As shown above <b>OverallQual</b> and <b>SalePrice</b> has a linear relationship\n",
    "So the linear estimation of the data distribution is calculated below.\n",
    "Then RMSE of the data is being calculated as written in the project."
   ]
  },
  {
   "cell_type": "markdown",
   "metadata": {},
   "source": [
    "<table style=\"width: 100%\">\n",
    "    <tr>\n",
    "        <td>\n",
    "            <img src=\"http://mohsenfayyaz.ir/extra/files/line.png\" alt=\"line.png\" style=\"width: 100%;\"/> -->\n",
    "        </td>\n",
    "        <td>\n",
    "            $$ \\huge \\hat{y} = wx + b $$ <br>\n",
    "            $$ w = \\frac{\\Delta{y}}{\\Delta{x}} = \\frac{200-(-50)}{6.5-0} = 38.4615 $$ <br>\n",
    "            $$ b = -50 $$ <br>\n",
    "            <b> $$ \\huge \\hat{y} = 38.4615 \\times x -50 $$ </b>\n",
    "        </td>\n",
    "    </tr>\n",
    "</table>"
   ]
  },
  {
   "cell_type": "code",
   "execution_count": 2,
   "metadata": {
    "scrolled": true,
    "pycharm": {
     "is_executing": false
    }
   },
   "outputs": [
    {
     "traceback": [
      "\u001b[1;31m---------------------------------------------------------------------------\u001b[0m",
      "\u001b[1;31mNameError\u001b[0m                                 Traceback (most recent call last)",
      "\u001b[1;32m<ipython-input-2-f8236fa946b7>\u001b[0m in \u001b[0;36m<module>\u001b[1;34m\u001b[0m\n\u001b[0;32m     11\u001b[0m \u001b[1;33m\u001b[0m\u001b[0m\n\u001b[0;32m     12\u001b[0m \u001b[1;33m\u001b[0m\u001b[0m\n\u001b[1;32m---> 13\u001b[1;33m \u001b[0mplt\u001b[0m\u001b[1;33m.\u001b[0m\u001b[0mscatter\u001b[0m\u001b[1;33m(\u001b[0m\u001b[0mfinal_houses\u001b[0m\u001b[1;33m[\u001b[0m\u001b[0mOVERALL_QUAL_COL\u001b[0m\u001b[1;33m]\u001b[0m\u001b[1;33m,\u001b[0m \u001b[0mfinal_houses\u001b[0m\u001b[1;33m[\u001b[0m\u001b[0mSALE_PRICE_COL\u001b[0m\u001b[1;33m]\u001b[0m\u001b[1;33m,\u001b[0m \u001b[0ms\u001b[0m\u001b[1;33m=\u001b[0m\u001b[1;36m1\u001b[0m\u001b[1;33m,\u001b[0m \u001b[0mlabel\u001b[0m\u001b[1;33m=\u001b[0m\u001b[1;34m\"Real\"\u001b[0m\u001b[1;33m)\u001b[0m\u001b[1;33m\u001b[0m\u001b[1;33m\u001b[0m\u001b[0m\n\u001b[0m\u001b[0;32m     14\u001b[0m \u001b[0mplt\u001b[0m\u001b[1;33m.\u001b[0m\u001b[0mscatter\u001b[0m\u001b[1;33m(\u001b[0m\u001b[0mfinal_houses\u001b[0m\u001b[1;33m[\u001b[0m\u001b[0mOVERALL_QUAL_COL\u001b[0m\u001b[1;33m]\u001b[0m\u001b[1;33m,\u001b[0m \u001b[0mcalc_linear_estimation\u001b[0m\u001b[1;33m(\u001b[0m\u001b[0mfinal_houses\u001b[0m\u001b[1;33m[\u001b[0m\u001b[0mOVERALL_QUAL_COL\u001b[0m\u001b[1;33m]\u001b[0m\u001b[1;33m)\u001b[0m\u001b[1;33m,\u001b[0m \u001b[0ms\u001b[0m\u001b[1;33m=\u001b[0m\u001b[1;36m10\u001b[0m\u001b[1;33m,\u001b[0m \u001b[0mcolor\u001b[0m\u001b[1;33m=\u001b[0m\u001b[1;34m\"red\"\u001b[0m\u001b[1;33m,\u001b[0m \u001b[0mlabel\u001b[0m\u001b[1;33m=\u001b[0m\u001b[1;34m\"Estimated\"\u001b[0m\u001b[1;33m)\u001b[0m\u001b[1;33m\u001b[0m\u001b[1;33m\u001b[0m\u001b[0m\n\u001b[0;32m     15\u001b[0m \u001b[0mplt\u001b[0m\u001b[1;33m.\u001b[0m\u001b[0mtitle\u001b[0m\u001b[1;33m(\u001b[0m\u001b[1;34m'Scatter plot '\u001b[0m \u001b[1;33m+\u001b[0m \u001b[0mOVERALL_QUAL_COL\u001b[0m \u001b[1;33m+\u001b[0m \u001b[1;34m\"\\n Estimated price is in RED\"\u001b[0m\u001b[1;33m)\u001b[0m\u001b[1;33m\u001b[0m\u001b[1;33m\u001b[0m\u001b[0m\n",
      "\u001b[1;31mNameError\u001b[0m: name 'final_houses' is not defined"
     ],
     "ename": "NameError",
     "evalue": "name 'final_houses' is not defined",
     "output_type": "error"
    }
   ],
   "source": [
    "OVERALL_QUAL_COL = \"OverallQual\"\n",
    "\n",
    "\n",
    "def calc_linear_estimation(x):\n",
    "    return 38.4615 * x - 50\n",
    "\n",
    "\n",
    "def calc_RMSE(y_hat, y):\n",
    "    return np.sqrt(1 / len(y) * np.sum(np.power(y_hat - y, 2)))\n",
    "\n",
    "\n",
    "plt.scatter(final_houses[OVERALL_QUAL_COL], final_houses[SALE_PRICE_COL], s=1, label=\"Real\")\n",
    "plt.scatter(final_houses[OVERALL_QUAL_COL], calc_linear_estimation(final_houses[OVERALL_QUAL_COL]), s=10, color=\"red\", label=\"Estimated\")\n",
    "plt.title('Scatter plot ' + OVERALL_QUAL_COL + \"\\n Estimated price is in RED\")\n",
    "plt.xlabel(OVERALL_QUAL_COL)\n",
    "plt.ylabel(SALE_PRICE_COL)\n",
    "plt.legend(loc=\"upper left\")\n",
    "plt.show()\n",
    "\n",
    "print(\"RMSE = \", end='')\n",
    "print(calc_RMSE(calc_linear_estimation(final_houses[OVERALL_QUAL_COL]), final_houses[SALE_PRICE_COL]))\n"
   ]
  },
  {
   "cell_type": "markdown",
   "metadata": {},
   "source": [
    "As shown above the RMSE calculated for the estimated line is 39.59 and it's less than 90 which was recommended in the project.\n",
    "The plot of this estimation and the real data is drawn above as well."
   ]
  },
  {
   "cell_type": "markdown",
   "metadata": {},
   "source": [
    "## e)\n",
    "Here the euclidean_distances between the input and data properties are being calculated to obtain the 10 nearest neighbors of the input in the dataset.<br>\n",
    "After acquiring nearest neighbors, their mean in \"SalePrice\" is being returned as the estimated \"SalePrice\" for the input data.<br>\n",
    "The method we are said to use for Feature Scaling is Min-Max Scaling.<br>\n",
    "This method shoud be applied to dataset and input seperatly, not combined, to prevent the input from influencing on the dataset. So there are two different methods to do as explained.<br>\n",
    "For the input data we should scale it by using training data parameters.<br>\n",
    "The reason is that we want to pretend that the test data is “new, unseen data.”<br>\n",
    "\n",
    "scaled_train =  (train - train_min) / train_peek_to_peek\n",
    "\n",
    "scaled_test = (test - train_min) / train_peek_to_peek"
   ]
  }
 ],
 "metadata": {
  "kernelspec": {
   "display_name": "Python 3",
   "language": "python",
   "name": "python3"
  },
  "language_info": {
   "codemirror_mode": {
    "name": "ipython",
    "version": 3
   },
   "file_extension": ".py",
   "mimetype": "text/x-python",
   "name": "python",
   "nbconvert_exporter": "python",
   "pygments_lexer": "ipython3",
   "version": "3.7.3"
  },
  "pycharm": {
   "stem_cell": {
    "cell_type": "raw",
    "source": [],
    "metadata": {
     "collapsed": false
    }
   }
  }
 },
 "nbformat": 4,
 "nbformat_minor": 2
}